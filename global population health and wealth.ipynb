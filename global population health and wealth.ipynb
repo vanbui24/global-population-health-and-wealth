{
 "cells": [
  {
   "cell_type": "code",
   "execution_count": 42,
   "metadata": {},
   "outputs": [],
   "source": [
    "import math\n",
    "import collections\n",
    "\n",
    "import numpy as np\n",
    "import pandas as pd\n",
    "import matplotlib.pyplot as plt\n",
    "\n",
    "%matplotlib inline"
   ]
  },
  {
   "cell_type": "code",
   "execution_count": 3,
   "metadata": {},
   "outputs": [],
   "source": [
    "pd.options.display.max_rows = 16"
   ]
  },
  {
   "cell_type": "code",
   "execution_count": 4,
   "metadata": {},
   "outputs": [],
   "source": [
    "\"\"\"The data set consisting of global population health and wealth statistics, from the amazing Gapminder website. \n",
    "Gapminder is a Swedish foundation created by the late Hans Rosling to promote a fact-based worldview and to fight misconceptions about global development.\n",
    "\"\"\"\n",
    "#read csv file, \n",
    "gapminder = pd.read_csv(\"gapminder.csv\")"
   ]
  },
  {
   "cell_type": "code",
   "execution_count": 5,
   "metadata": {},
   "outputs": [
    {
     "data": {
      "text/html": [
       "<div>\n",
       "<style scoped>\n",
       "    .dataframe tbody tr th:only-of-type {\n",
       "        vertical-align: middle;\n",
       "    }\n",
       "\n",
       "    .dataframe tbody tr th {\n",
       "        vertical-align: top;\n",
       "    }\n",
       "\n",
       "    .dataframe thead th {\n",
       "        text-align: right;\n",
       "    }\n",
       "</style>\n",
       "<table border=\"1\" class=\"dataframe\">\n",
       "  <thead>\n",
       "    <tr style=\"text-align: right;\">\n",
       "      <th></th>\n",
       "      <th>country</th>\n",
       "      <th>year</th>\n",
       "      <th>region</th>\n",
       "      <th>population</th>\n",
       "      <th>life_expectancy</th>\n",
       "      <th>age5_surviving</th>\n",
       "      <th>babies_per_woman</th>\n",
       "      <th>gdp_per_capita</th>\n",
       "    </tr>\n",
       "  </thead>\n",
       "  <tbody>\n",
       "    <tr>\n",
       "      <th>0</th>\n",
       "      <td>Afghanistan</td>\n",
       "      <td>1800</td>\n",
       "      <td>Asia</td>\n",
       "      <td>3280000.0</td>\n",
       "      <td>28.21</td>\n",
       "      <td>53.142</td>\n",
       "      <td>7.0</td>\n",
       "      <td>603.0</td>\n",
       "    </tr>\n",
       "    <tr>\n",
       "      <th>1</th>\n",
       "      <td>Afghanistan</td>\n",
       "      <td>1810</td>\n",
       "      <td>Asia</td>\n",
       "      <td>3280000.0</td>\n",
       "      <td>28.11</td>\n",
       "      <td>53.002</td>\n",
       "      <td>7.0</td>\n",
       "      <td>604.0</td>\n",
       "    </tr>\n",
       "    <tr>\n",
       "      <th>2</th>\n",
       "      <td>Afghanistan</td>\n",
       "      <td>1820</td>\n",
       "      <td>Asia</td>\n",
       "      <td>3323519.0</td>\n",
       "      <td>28.01</td>\n",
       "      <td>52.862</td>\n",
       "      <td>7.0</td>\n",
       "      <td>604.0</td>\n",
       "    </tr>\n",
       "    <tr>\n",
       "      <th>3</th>\n",
       "      <td>Afghanistan</td>\n",
       "      <td>1830</td>\n",
       "      <td>Asia</td>\n",
       "      <td>3448982.0</td>\n",
       "      <td>27.90</td>\n",
       "      <td>52.719</td>\n",
       "      <td>7.0</td>\n",
       "      <td>625.0</td>\n",
       "    </tr>\n",
       "    <tr>\n",
       "      <th>4</th>\n",
       "      <td>Afghanistan</td>\n",
       "      <td>1840</td>\n",
       "      <td>Asia</td>\n",
       "      <td>3625022.0</td>\n",
       "      <td>27.80</td>\n",
       "      <td>52.576</td>\n",
       "      <td>7.0</td>\n",
       "      <td>647.0</td>\n",
       "    </tr>\n",
       "    <tr>\n",
       "      <th>5</th>\n",
       "      <td>Afghanistan</td>\n",
       "      <td>1850</td>\n",
       "      <td>Asia</td>\n",
       "      <td>3810047.0</td>\n",
       "      <td>27.70</td>\n",
       "      <td>52.433</td>\n",
       "      <td>7.0</td>\n",
       "      <td>669.0</td>\n",
       "    </tr>\n",
       "    <tr>\n",
       "      <th>6</th>\n",
       "      <td>Afghanistan</td>\n",
       "      <td>1860</td>\n",
       "      <td>Asia</td>\n",
       "      <td>3973968.0</td>\n",
       "      <td>27.60</td>\n",
       "      <td>52.290</td>\n",
       "      <td>7.0</td>\n",
       "      <td>692.0</td>\n",
       "    </tr>\n",
       "    <tr>\n",
       "      <th>7</th>\n",
       "      <td>Afghanistan</td>\n",
       "      <td>1870</td>\n",
       "      <td>Asia</td>\n",
       "      <td>4169690.0</td>\n",
       "      <td>27.49</td>\n",
       "      <td>52.147</td>\n",
       "      <td>7.0</td>\n",
       "      <td>716.0</td>\n",
       "    </tr>\n",
       "    <tr>\n",
       "      <th>8</th>\n",
       "      <td>Afghanistan</td>\n",
       "      <td>1880</td>\n",
       "      <td>Asia</td>\n",
       "      <td>4419695.0</td>\n",
       "      <td>27.39</td>\n",
       "      <td>52.004</td>\n",
       "      <td>7.0</td>\n",
       "      <td>741.0</td>\n",
       "    </tr>\n",
       "    <tr>\n",
       "      <th>9</th>\n",
       "      <td>Afghanistan</td>\n",
       "      <td>1890</td>\n",
       "      <td>Asia</td>\n",
       "      <td>4710171.0</td>\n",
       "      <td>27.29</td>\n",
       "      <td>51.861</td>\n",
       "      <td>7.0</td>\n",
       "      <td>767.0</td>\n",
       "    </tr>\n",
       "  </tbody>\n",
       "</table>\n",
       "</div>"
      ],
      "text/plain": [
       "       country  year region  population  life_expectancy  age5_surviving  \\\n",
       "0  Afghanistan  1800   Asia   3280000.0            28.21          53.142   \n",
       "1  Afghanistan  1810   Asia   3280000.0            28.11          53.002   \n",
       "2  Afghanistan  1820   Asia   3323519.0            28.01          52.862   \n",
       "3  Afghanistan  1830   Asia   3448982.0            27.90          52.719   \n",
       "4  Afghanistan  1840   Asia   3625022.0            27.80          52.576   \n",
       "5  Afghanistan  1850   Asia   3810047.0            27.70          52.433   \n",
       "6  Afghanistan  1860   Asia   3973968.0            27.60          52.290   \n",
       "7  Afghanistan  1870   Asia   4169690.0            27.49          52.147   \n",
       "8  Afghanistan  1880   Asia   4419695.0            27.39          52.004   \n",
       "9  Afghanistan  1890   Asia   4710171.0            27.29          51.861   \n",
       "\n",
       "   babies_per_woman  gdp_per_capita  \n",
       "0               7.0           603.0  \n",
       "1               7.0           604.0  \n",
       "2               7.0           604.0  \n",
       "3               7.0           625.0  \n",
       "4               7.0           647.0  \n",
       "5               7.0           669.0  \n",
       "6               7.0           692.0  \n",
       "7               7.0           716.0  \n",
       "8               7.0           741.0  \n",
       "9               7.0           767.0  "
      ]
     },
     "execution_count": 5,
     "metadata": {},
     "output_type": "execute_result"
    }
   ],
   "source": [
    "gapminder.head(10)"
   ]
  },
  {
   "cell_type": "code",
   "execution_count": 6,
   "metadata": {},
   "outputs": [
    {
     "data": {
      "text/html": [
       "<div>\n",
       "<style scoped>\n",
       "    .dataframe tbody tr th:only-of-type {\n",
       "        vertical-align: middle;\n",
       "    }\n",
       "\n",
       "    .dataframe tbody tr th {\n",
       "        vertical-align: top;\n",
       "    }\n",
       "\n",
       "    .dataframe thead th {\n",
       "        text-align: right;\n",
       "    }\n",
       "</style>\n",
       "<table border=\"1\" class=\"dataframe\">\n",
       "  <thead>\n",
       "    <tr style=\"text-align: right;\">\n",
       "      <th></th>\n",
       "      <th>year</th>\n",
       "      <th>population</th>\n",
       "      <th>life_expectancy</th>\n",
       "      <th>age5_surviving</th>\n",
       "      <th>babies_per_woman</th>\n",
       "      <th>gdp_per_capita</th>\n",
       "    </tr>\n",
       "  </thead>\n",
       "  <tbody>\n",
       "    <tr>\n",
       "      <th>count</th>\n",
       "      <td>14740.000000</td>\n",
       "      <td>1.474000e+04</td>\n",
       "      <td>14740.000000</td>\n",
       "      <td>14740.000000</td>\n",
       "      <td>14740.000000</td>\n",
       "      <td>14740.000000</td>\n",
       "    </tr>\n",
       "    <tr>\n",
       "      <th>mean</th>\n",
       "      <td>1961.687924</td>\n",
       "      <td>2.252933e+07</td>\n",
       "      <td>56.834526</td>\n",
       "      <td>84.452665</td>\n",
       "      <td>4.643472</td>\n",
       "      <td>9000.506513</td>\n",
       "    </tr>\n",
       "    <tr>\n",
       "      <th>std</th>\n",
       "      <td>50.480650</td>\n",
       "      <td>9.307143e+07</td>\n",
       "      <td>15.868464</td>\n",
       "      <td>14.472179</td>\n",
       "      <td>1.994833</td>\n",
       "      <td>14912.146692</td>\n",
       "    </tr>\n",
       "    <tr>\n",
       "      <th>min</th>\n",
       "      <td>1800.000000</td>\n",
       "      <td>2.128000e+03</td>\n",
       "      <td>4.000000</td>\n",
       "      <td>33.217000</td>\n",
       "      <td>1.130000</td>\n",
       "      <td>142.000000</td>\n",
       "    </tr>\n",
       "    <tr>\n",
       "      <th>25%</th>\n",
       "      <td>1955.000000</td>\n",
       "      <td>8.990308e+05</td>\n",
       "      <td>44.230000</td>\n",
       "      <td>75.182250</td>\n",
       "      <td>2.630000</td>\n",
       "      <td>1391.000000</td>\n",
       "    </tr>\n",
       "    <tr>\n",
       "      <th>50%</th>\n",
       "      <td>1975.000000</td>\n",
       "      <td>4.063978e+06</td>\n",
       "      <td>60.080000</td>\n",
       "      <td>89.693000</td>\n",
       "      <td>5.060000</td>\n",
       "      <td>3509.000000</td>\n",
       "    </tr>\n",
       "    <tr>\n",
       "      <th>75%</th>\n",
       "      <td>1995.000000</td>\n",
       "      <td>1.218722e+07</td>\n",
       "      <td>70.380000</td>\n",
       "      <td>96.870000</td>\n",
       "      <td>6.440000</td>\n",
       "      <td>10244.000000</td>\n",
       "    </tr>\n",
       "    <tr>\n",
       "      <th>max</th>\n",
       "      <td>2015.000000</td>\n",
       "      <td>1.376049e+09</td>\n",
       "      <td>83.300000</td>\n",
       "      <td>99.810000</td>\n",
       "      <td>9.220000</td>\n",
       "      <td>182668.000000</td>\n",
       "    </tr>\n",
       "  </tbody>\n",
       "</table>\n",
       "</div>"
      ],
      "text/plain": [
       "               year    population  life_expectancy  age5_surviving  \\\n",
       "count  14740.000000  1.474000e+04     14740.000000    14740.000000   \n",
       "mean    1961.687924  2.252933e+07        56.834526       84.452665   \n",
       "std       50.480650  9.307143e+07        15.868464       14.472179   \n",
       "min     1800.000000  2.128000e+03         4.000000       33.217000   \n",
       "25%     1955.000000  8.990308e+05        44.230000       75.182250   \n",
       "50%     1975.000000  4.063978e+06        60.080000       89.693000   \n",
       "75%     1995.000000  1.218722e+07        70.380000       96.870000   \n",
       "max     2015.000000  1.376049e+09        83.300000       99.810000   \n",
       "\n",
       "       babies_per_woman  gdp_per_capita  \n",
       "count      14740.000000    14740.000000  \n",
       "mean           4.643472     9000.506513  \n",
       "std            1.994833    14912.146692  \n",
       "min            1.130000      142.000000  \n",
       "25%            2.630000     1391.000000  \n",
       "50%            5.060000     3509.000000  \n",
       "75%            6.440000    10244.000000  \n",
       "max            9.220000   182668.000000  "
      ]
     },
     "execution_count": 6,
     "metadata": {},
     "output_type": "execute_result"
    }
   ],
   "source": [
    "gapminder.describe()"
   ]
  },
  {
   "cell_type": "code",
   "execution_count": 7,
   "metadata": {},
   "outputs": [],
   "source": [
    "#add column log_gdp_per_day\n",
    "gapminder[\"log_gdp_per_day\"] = np.log10(gapminder[\"gdp_per_capita\"] /365.25)"
   ]
  },
  {
   "cell_type": "code",
   "execution_count": 8,
   "metadata": {},
   "outputs": [
    {
     "data": {
      "text/html": [
       "<div>\n",
       "<style scoped>\n",
       "    .dataframe tbody tr th:only-of-type {\n",
       "        vertical-align: middle;\n",
       "    }\n",
       "\n",
       "    .dataframe tbody tr th {\n",
       "        vertical-align: top;\n",
       "    }\n",
       "\n",
       "    .dataframe thead th {\n",
       "        text-align: right;\n",
       "    }\n",
       "</style>\n",
       "<table border=\"1\" class=\"dataframe\">\n",
       "  <thead>\n",
       "    <tr style=\"text-align: right;\">\n",
       "      <th></th>\n",
       "      <th>country</th>\n",
       "      <th>year</th>\n",
       "      <th>region</th>\n",
       "      <th>population</th>\n",
       "      <th>life_expectancy</th>\n",
       "      <th>age5_surviving</th>\n",
       "      <th>babies_per_woman</th>\n",
       "      <th>gdp_per_capita</th>\n",
       "      <th>log_gdp_per_day</th>\n",
       "    </tr>\n",
       "  </thead>\n",
       "  <tbody>\n",
       "    <tr>\n",
       "      <th>0</th>\n",
       "      <td>Afghanistan</td>\n",
       "      <td>1800</td>\n",
       "      <td>Asia</td>\n",
       "      <td>3280000.0</td>\n",
       "      <td>28.21</td>\n",
       "      <td>53.142</td>\n",
       "      <td>7.0</td>\n",
       "      <td>603.0</td>\n",
       "      <td>0.217727</td>\n",
       "    </tr>\n",
       "    <tr>\n",
       "      <th>1</th>\n",
       "      <td>Afghanistan</td>\n",
       "      <td>1810</td>\n",
       "      <td>Asia</td>\n",
       "      <td>3280000.0</td>\n",
       "      <td>28.11</td>\n",
       "      <td>53.002</td>\n",
       "      <td>7.0</td>\n",
       "      <td>604.0</td>\n",
       "      <td>0.218447</td>\n",
       "    </tr>\n",
       "    <tr>\n",
       "      <th>2</th>\n",
       "      <td>Afghanistan</td>\n",
       "      <td>1820</td>\n",
       "      <td>Asia</td>\n",
       "      <td>3323519.0</td>\n",
       "      <td>28.01</td>\n",
       "      <td>52.862</td>\n",
       "      <td>7.0</td>\n",
       "      <td>604.0</td>\n",
       "      <td>0.218447</td>\n",
       "    </tr>\n",
       "    <tr>\n",
       "      <th>3</th>\n",
       "      <td>Afghanistan</td>\n",
       "      <td>1830</td>\n",
       "      <td>Asia</td>\n",
       "      <td>3448982.0</td>\n",
       "      <td>27.90</td>\n",
       "      <td>52.719</td>\n",
       "      <td>7.0</td>\n",
       "      <td>625.0</td>\n",
       "      <td>0.233290</td>\n",
       "    </tr>\n",
       "    <tr>\n",
       "      <th>4</th>\n",
       "      <td>Afghanistan</td>\n",
       "      <td>1840</td>\n",
       "      <td>Asia</td>\n",
       "      <td>3625022.0</td>\n",
       "      <td>27.80</td>\n",
       "      <td>52.576</td>\n",
       "      <td>7.0</td>\n",
       "      <td>647.0</td>\n",
       "      <td>0.248314</td>\n",
       "    </tr>\n",
       "    <tr>\n",
       "      <th>5</th>\n",
       "      <td>Afghanistan</td>\n",
       "      <td>1850</td>\n",
       "      <td>Asia</td>\n",
       "      <td>3810047.0</td>\n",
       "      <td>27.70</td>\n",
       "      <td>52.433</td>\n",
       "      <td>7.0</td>\n",
       "      <td>669.0</td>\n",
       "      <td>0.262836</td>\n",
       "    </tr>\n",
       "    <tr>\n",
       "      <th>6</th>\n",
       "      <td>Afghanistan</td>\n",
       "      <td>1860</td>\n",
       "      <td>Asia</td>\n",
       "      <td>3973968.0</td>\n",
       "      <td>27.60</td>\n",
       "      <td>52.290</td>\n",
       "      <td>7.0</td>\n",
       "      <td>692.0</td>\n",
       "      <td>0.277516</td>\n",
       "    </tr>\n",
       "    <tr>\n",
       "      <th>7</th>\n",
       "      <td>Afghanistan</td>\n",
       "      <td>1870</td>\n",
       "      <td>Asia</td>\n",
       "      <td>4169690.0</td>\n",
       "      <td>27.49</td>\n",
       "      <td>52.147</td>\n",
       "      <td>7.0</td>\n",
       "      <td>716.0</td>\n",
       "      <td>0.292323</td>\n",
       "    </tr>\n",
       "    <tr>\n",
       "      <th>8</th>\n",
       "      <td>Afghanistan</td>\n",
       "      <td>1880</td>\n",
       "      <td>Asia</td>\n",
       "      <td>4419695.0</td>\n",
       "      <td>27.39</td>\n",
       "      <td>52.004</td>\n",
       "      <td>7.0</td>\n",
       "      <td>741.0</td>\n",
       "      <td>0.307228</td>\n",
       "    </tr>\n",
       "    <tr>\n",
       "      <th>9</th>\n",
       "      <td>Afghanistan</td>\n",
       "      <td>1890</td>\n",
       "      <td>Asia</td>\n",
       "      <td>4710171.0</td>\n",
       "      <td>27.29</td>\n",
       "      <td>51.861</td>\n",
       "      <td>7.0</td>\n",
       "      <td>767.0</td>\n",
       "      <td>0.322205</td>\n",
       "    </tr>\n",
       "  </tbody>\n",
       "</table>\n",
       "</div>"
      ],
      "text/plain": [
       "       country  year region  population  life_expectancy  age5_surviving  \\\n",
       "0  Afghanistan  1800   Asia   3280000.0            28.21          53.142   \n",
       "1  Afghanistan  1810   Asia   3280000.0            28.11          53.002   \n",
       "2  Afghanistan  1820   Asia   3323519.0            28.01          52.862   \n",
       "3  Afghanistan  1830   Asia   3448982.0            27.90          52.719   \n",
       "4  Afghanistan  1840   Asia   3625022.0            27.80          52.576   \n",
       "5  Afghanistan  1850   Asia   3810047.0            27.70          52.433   \n",
       "6  Afghanistan  1860   Asia   3973968.0            27.60          52.290   \n",
       "7  Afghanistan  1870   Asia   4169690.0            27.49          52.147   \n",
       "8  Afghanistan  1880   Asia   4419695.0            27.39          52.004   \n",
       "9  Afghanistan  1890   Asia   4710171.0            27.29          51.861   \n",
       "\n",
       "   babies_per_woman  gdp_per_capita  log_gdp_per_day  \n",
       "0               7.0           603.0         0.217727  \n",
       "1               7.0           604.0         0.218447  \n",
       "2               7.0           604.0         0.218447  \n",
       "3               7.0           625.0         0.233290  \n",
       "4               7.0           647.0         0.248314  \n",
       "5               7.0           669.0         0.262836  \n",
       "6               7.0           692.0         0.277516  \n",
       "7               7.0           716.0         0.292323  \n",
       "8               7.0           741.0         0.307228  \n",
       "9               7.0           767.0         0.322205  "
      ]
     },
     "execution_count": 8,
     "metadata": {},
     "output_type": "execute_result"
    }
   ],
   "source": [
    "gapminder.head(10)"
   ]
  },
  {
   "cell_type": "code",
   "execution_count": 25,
   "metadata": {},
   "outputs": [
    {
     "data": {
      "text/html": [
       "<div>\n",
       "<style scoped>\n",
       "    .dataframe tbody tr th:only-of-type {\n",
       "        vertical-align: middle;\n",
       "    }\n",
       "\n",
       "    .dataframe tbody tr th {\n",
       "        vertical-align: top;\n",
       "    }\n",
       "\n",
       "    .dataframe thead th {\n",
       "        text-align: right;\n",
       "    }\n",
       "</style>\n",
       "<table border=\"1\" class=\"dataframe\">\n",
       "  <thead>\n",
       "    <tr style=\"text-align: right;\">\n",
       "      <th></th>\n",
       "      <th>country</th>\n",
       "      <th>region</th>\n",
       "      <th>population</th>\n",
       "      <th>life_expectancy</th>\n",
       "      <th>age5_surviving</th>\n",
       "      <th>babies_per_woman</th>\n",
       "      <th>gdp_per_capita</th>\n",
       "      <th>log_gdp_per_day</th>\n",
       "    </tr>\n",
       "    <tr>\n",
       "      <th>year</th>\n",
       "      <th></th>\n",
       "      <th></th>\n",
       "      <th></th>\n",
       "      <th></th>\n",
       "      <th></th>\n",
       "      <th></th>\n",
       "      <th></th>\n",
       "      <th></th>\n",
       "    </tr>\n",
       "  </thead>\n",
       "  <tbody>\n",
       "    <tr>\n",
       "      <th>1800</th>\n",
       "      <td>Afghanistan</td>\n",
       "      <td>Asia</td>\n",
       "      <td>3280000.0</td>\n",
       "      <td>28.21</td>\n",
       "      <td>53.142</td>\n",
       "      <td>7.00</td>\n",
       "      <td>603.0</td>\n",
       "      <td>0.217727</td>\n",
       "    </tr>\n",
       "    <tr>\n",
       "      <th>1800</th>\n",
       "      <td>Guyana</td>\n",
       "      <td>America</td>\n",
       "      <td>166034.0</td>\n",
       "      <td>31.12</td>\n",
       "      <td>57.084</td>\n",
       "      <td>5.01</td>\n",
       "      <td>1214.0</td>\n",
       "      <td>0.521628</td>\n",
       "    </tr>\n",
       "    <tr>\n",
       "      <th>1800</th>\n",
       "      <td>Guinea-Bissau</td>\n",
       "      <td>Africa</td>\n",
       "      <td>218167.0</td>\n",
       "      <td>32.00</td>\n",
       "      <td>58.256</td>\n",
       "      <td>7.25</td>\n",
       "      <td>777.0</td>\n",
       "      <td>0.327831</td>\n",
       "    </tr>\n",
       "    <tr>\n",
       "      <th>1800</th>\n",
       "      <td>Guinea</td>\n",
       "      <td>Africa</td>\n",
       "      <td>983959.0</td>\n",
       "      <td>29.50</td>\n",
       "      <td>54.940</td>\n",
       "      <td>6.11</td>\n",
       "      <td>450.0</td>\n",
       "      <td>0.090622</td>\n",
       "    </tr>\n",
       "    <tr>\n",
       "      <th>1800</th>\n",
       "      <td>Guatemala</td>\n",
       "      <td>America</td>\n",
       "      <td>458965.0</td>\n",
       "      <td>25.80</td>\n",
       "      <td>49.664</td>\n",
       "      <td>6.45</td>\n",
       "      <td>857.0</td>\n",
       "      <td>0.370391</td>\n",
       "    </tr>\n",
       "  </tbody>\n",
       "</table>\n",
       "</div>"
      ],
      "text/plain": [
       "            country   region  population  life_expectancy  age5_surviving  \\\n",
       "year                                                                        \n",
       "1800    Afghanistan     Asia   3280000.0            28.21          53.142   \n",
       "1800         Guyana  America    166034.0            31.12          57.084   \n",
       "1800  Guinea-Bissau   Africa    218167.0            32.00          58.256   \n",
       "1800         Guinea   Africa    983959.0            29.50          54.940   \n",
       "1800      Guatemala  America    458965.0            25.80          49.664   \n",
       "\n",
       "      babies_per_woman  gdp_per_capita  log_gdp_per_day  \n",
       "year                                                     \n",
       "1800              7.00           603.0         0.217727  \n",
       "1800              5.01          1214.0         0.521628  \n",
       "1800              7.25           777.0         0.327831  \n",
       "1800              6.11           450.0         0.090622  \n",
       "1800              6.45           857.0         0.370391  "
      ]
     },
     "execution_count": 25,
     "metadata": {},
     "output_type": "execute_result"
    }
   ],
   "source": [
    "#set year as index\n",
    "gapminder_by_year = gapminder.set_index(\"year\").sort_index()\n",
    "gapminder_by_year.head()"
   ]
  },
  {
   "cell_type": "code",
   "execution_count": 11,
   "metadata": {},
   "outputs": [
    {
     "data": {
      "text/plain": [
       "<matplotlib.axes._subplots.AxesSubplot at 0x1c18c0ee188>"
      ]
     },
     "execution_count": 11,
     "metadata": {},
     "output_type": "execute_result"
    },
    {
     "data": {
      "image/png": "[encoded data removed]",
      "text/plain": [
       "<Figure size 432x288 with 1 Axes>"
      ]
     },
     "metadata": {
      "needs_background": "light"
     },
     "output_type": "display_data"
    }
   ],
   "source": [
    "#plot log_gdp_per_day vs life_excpectancy for 1960\n",
    "gapminder_by_year.loc[1960].plot.scatter(\"log_gdp_per_day\", \"life_expectancy\")"
   ]
  },
  {
   "cell_type": "code",
   "execution_count": 12,
   "metadata": {},
   "outputs": [
    {
     "data": {
      "text/plain": [
       "<matplotlib.axes._subplots.AxesSubplot at 0x1c18c184ec8>"
      ]
     },
     "execution_count": 12,
     "metadata": {},
     "output_type": "execute_result"
    },
    {
     "data": {
      "image/png": "[encoded data removed]",
      "text/plain": [
       "<Figure size 432x288 with 1 Axes>"
      ]
     },
     "metadata": {
      "needs_background": "light"
     },
     "output_type": "display_data"
    }
   ],
   "source": [
    "#plot (scatter) log_gdp_per_day vs life_excpectancy for 1960 and 2015\n",
    "\n",
    "axes = gapminder_by_year.loc[1960].plot.scatter(\"log_gdp_per_day\",\"life_expectancy\", label=1960)\n",
    "gapminder_by_year.loc[2015].plot.scatter(\"log_gdp_per_day\", \"life_expectancy\", label=2015, color=\"C1\", ax=axes)"
   ]
  },
  {
   "cell_type": "code",
   "execution_count": 13,
   "metadata": {},
   "outputs": [
    {
     "data": {
      "text/plain": [
       "<matplotlib.axes._subplots.AxesSubplot at 0x1c18c251a48>"
      ]
     },
     "execution_count": 13,
     "metadata": {},
     "output_type": "execute_result"
    },
    {
     "data": {
      "image/png": "[encoded data removed]",
      "text/plain": [
       "<Figure size 432x288 with 1 Axes>"
      ]
     },
     "metadata": {
      "needs_background": "light"
     },
     "output_type": "display_data"
    }
   ],
   "source": [
    "#plot (scatter) log_gdp_per_day vs age5_surviving for 1960 and 2015\n",
    "\n",
    "axes = gapminder_by_year.loc[1960].plot.scatter(\"log_gdp_per_day\",\"age5_surviving\", label=1960)\n",
    "gapminder_by_year.loc[2015].plot.scatter(\"log_gdp_per_day\", \"age5_surviving\", label=2015, color=\"C1\", ax=axes)"
   ]
  },
  {
   "cell_type": "code",
   "execution_count": 26,
   "metadata": {},
   "outputs": [],
   "source": [
    "#set country as index\n",
    "gapminder_by_country = gapminder.set_index(\"country\").sort_index()"
   ]
  },
  {
   "cell_type": "code",
   "execution_count": 27,
   "metadata": {},
   "outputs": [
    {
     "data": {
      "text/plain": [
       "<matplotlib.axes._subplots.AxesSubplot at 0x1c18d6f3248>"
      ]
     },
     "execution_count": 27,
     "metadata": {},
     "output_type": "execute_result"
    },
    {
     "data": {
      "image/png": "[encoded data removed]",
      "text/plain": [
       "<Figure size 432x288 with 1 Axes>"
      ]
     },
     "metadata": {
      "needs_background": "light"
     },
     "output_type": "display_data"
    }
   ],
   "source": [
    "#plot year vs life_expectancy\n",
    "gapminder_by_country.loc[\"Italy\"].plot(\"year\", \"life_expectancy\")"
   ]
  },
  {
   "cell_type": "code",
   "execution_count": 16,
   "metadata": {},
   "outputs": [
    {
     "data": {
      "text/plain": [
       "<matplotlib.axes._subplots.AxesSubplot at 0x1c18d2e2248>"
      ]
     },
     "execution_count": 16,
     "metadata": {},
     "output_type": "execute_result"
    },
    {
     "data": {
      "image/png": "[encoded data removed]",
      "text/plain": [
       "<Figure size 432x288 with 1 Axes>"
      ]
     },
     "metadata": {
      "needs_background": "light"
     },
     "output_type": "display_data"
    }
   ],
   "source": [
    "#plot year vs life_expectancy . sorting values first\n",
    "gapminder_by_country.loc[\"Italy\"].sort_values(\"year\").plot(\"year\", \"life_expectancy\")"
   ]
  },
  {
   "cell_type": "code",
   "execution_count": 29,
   "metadata": {},
   "outputs": [
    {
     "data": {
      "text/plain": [
       "Text(0, 0.5, 'Life expectancy')"
      ]
     },
     "execution_count": 29,
     "metadata": {},
     "output_type": "execute_result"
    },
    {
     "data": {
      "image/png": "[encoded data removed]",
      "text/plain": [
       "<Figure size 432x288 with 1 Axes>"
      ]
     },
     "metadata": {
      "needs_background": "light"
     },
     "output_type": "display_data"
    }
   ],
   "source": [
    "#plotting, italy, china, usa, year vs life_expectancy\n",
    "axes = gapminder_by_country.loc[\"Italy\"].sort_values(\"year\").plot(\"year\", \"life_expectancy\", label=\"Italy\")\n",
    "gapminder_by_country.loc[\"China\"].sort_values(\"year\").plot(\"year\", \"life_expectancy\", label=\"China\", ax=axes)\n",
    "gapminder_by_country.loc[\"United States\"].sort_values(\"year\").plot(\"year\", \"life_expectancy\", label=\"USA\", ax=axes)\n",
    "\n",
    "plt.axis(xmin= 1900)\n",
    "plt.ylabel(\"Life expectancy\")"
   ]
  },
  {
   "cell_type": "code",
   "execution_count": 34,
   "metadata": {},
   "outputs": [
    {
     "data": {
      "text/plain": [
       "year\n",
       "1800    6.105028\n",
       "1810    6.094254\n",
       "1820    6.094396\n",
       "1830    6.085879\n",
       "1840    6.072802\n",
       "          ...   \n",
       "2011    2.925110\n",
       "2012    2.892912\n",
       "2013    2.863407\n",
       "2014    2.830934\n",
       "2015    2.799231\n",
       "Name: babies_per_woman, Length: 81, dtype: float64"
      ]
     },
     "execution_count": 34,
     "metadata": {},
     "output_type": "execute_result"
    }
   ],
   "source": [
    "#groupby year, calculate avg babies_per_woman\n",
    "gapminder.groupby(\"year\").babies_per_woman.mean()"
   ]
  },
  {
   "cell_type": "code",
   "execution_count": 36,
   "metadata": {},
   "outputs": [
    {
     "data": {
      "text/plain": [
       "year\n",
       "1800    57.477635\n",
       "1810    57.889608\n",
       "1820    58.292978\n",
       "1830    58.546940\n",
       "1840    58.906379\n",
       "          ...    \n",
       "2011    96.213022\n",
       "2012    96.359231\n",
       "2013    96.494121\n",
       "2014    96.617692\n",
       "2015    96.730110\n",
       "Name: age5_surviving, Length: 81, dtype: float64"
      ]
     },
     "execution_count": 36,
     "metadata": {},
     "output_type": "execute_result"
    }
   ],
   "source": [
    "#groupby year, calculate avg. babies per woman\n",
    "gapminder.groupby(\"year\").age5_surviving.mean()"
   ]
  },
  {
   "cell_type": "code",
   "execution_count": 32,
   "metadata": {},
   "outputs": [
    {
     "data": {
      "text/plain": [
       "(1955, 2025.75, 55.51501163256634, 98.69273361665962)"
      ]
     },
     "execution_count": 32,
     "metadata": {},
     "output_type": "execute_result"
    },
    {
     "data": {
      "image/png": "[encoded data removed]",
      "text/plain": [
       "<Figure size 432x288 with 2 Axes>"
      ]
     },
     "metadata": {
      "needs_background": "light"
     },
     "output_type": "display_data"
    }
   ],
   "source": [
    "#plot avg babies_per_woman vs year. \n",
    "#plot avg age5_surviving in same plot\n",
    "gapminder.groupby(\"year\").babies_per_woman.mean().plot()\n",
    "#set ylabel\n",
    "plt.ylabel(\"babies per woman\")\n",
    "\n",
    "gapminder.groupby(\"year\").age5_surviving.mean().plot(secondary_y=True)\n",
    "#set ylabel\n",
    "plt.ylabel(\"age 5 survival [%]\")\n",
    "\n",
    "#set x axis, start at 1955\n",
    "plt.axis(xmin= 1955)"
   ]
  },
  {
   "cell_type": "code",
   "execution_count": 21,
   "metadata": {},
   "outputs": [
    {
     "data": {
      "text/html": [
       "<div>\n",
       "<style scoped>\n",
       "    .dataframe tbody tr th:only-of-type {\n",
       "        vertical-align: middle;\n",
       "    }\n",
       "\n",
       "    .dataframe tbody tr th {\n",
       "        vertical-align: top;\n",
       "    }\n",
       "\n",
       "    .dataframe thead th {\n",
       "        text-align: right;\n",
       "    }\n",
       "</style>\n",
       "<table border=\"1\" class=\"dataframe\">\n",
       "  <thead>\n",
       "    <tr style=\"text-align: right;\">\n",
       "      <th>region</th>\n",
       "      <th>Africa</th>\n",
       "      <th>America</th>\n",
       "      <th>Asia</th>\n",
       "      <th>Europe</th>\n",
       "    </tr>\n",
       "    <tr>\n",
       "      <th>year</th>\n",
       "      <th></th>\n",
       "      <th></th>\n",
       "      <th></th>\n",
       "      <th></th>\n",
       "    </tr>\n",
       "  </thead>\n",
       "  <tbody>\n",
       "    <tr>\n",
       "      <th>1800</th>\n",
       "      <td>6.393208</td>\n",
       "      <td>6.055758</td>\n",
       "      <td>6.291923</td>\n",
       "      <td>5.561628</td>\n",
       "    </tr>\n",
       "    <tr>\n",
       "      <th>1810</th>\n",
       "      <td>6.394151</td>\n",
       "      <td>6.040000</td>\n",
       "      <td>6.281154</td>\n",
       "      <td>5.540233</td>\n",
       "    </tr>\n",
       "    <tr>\n",
       "      <th>1820</th>\n",
       "      <td>6.394340</td>\n",
       "      <td>6.031515</td>\n",
       "      <td>6.292692</td>\n",
       "      <td>5.545909</td>\n",
       "    </tr>\n",
       "    <tr>\n",
       "      <th>1830</th>\n",
       "      <td>6.395472</td>\n",
       "      <td>6.046364</td>\n",
       "      <td>6.285577</td>\n",
       "      <td>5.506591</td>\n",
       "    </tr>\n",
       "    <tr>\n",
       "      <th>1840</th>\n",
       "      <td>6.396226</td>\n",
       "      <td>6.046970</td>\n",
       "      <td>6.255577</td>\n",
       "      <td>5.486591</td>\n",
       "    </tr>\n",
       "    <tr>\n",
       "      <th>...</th>\n",
       "      <td>...</td>\n",
       "      <td>...</td>\n",
       "      <td>...</td>\n",
       "      <td>...</td>\n",
       "    </tr>\n",
       "    <tr>\n",
       "      <th>2011</th>\n",
       "      <td>4.569811</td>\n",
       "      <td>2.340000</td>\n",
       "      <td>2.736923</td>\n",
       "      <td>1.605227</td>\n",
       "    </tr>\n",
       "    <tr>\n",
       "      <th>2012</th>\n",
       "      <td>4.508868</td>\n",
       "      <td>2.315152</td>\n",
       "      <td>2.700769</td>\n",
       "      <td>1.606818</td>\n",
       "    </tr>\n",
       "    <tr>\n",
       "      <th>2013</th>\n",
       "      <td>4.447547</td>\n",
       "      <td>2.294242</td>\n",
       "      <td>2.664038</td>\n",
       "      <td>1.617727</td>\n",
       "    </tr>\n",
       "    <tr>\n",
       "      <th>2014</th>\n",
       "      <td>4.383962</td>\n",
       "      <td>2.269697</td>\n",
       "      <td>2.627692</td>\n",
       "      <td>1.621364</td>\n",
       "    </tr>\n",
       "    <tr>\n",
       "      <th>2015</th>\n",
       "      <td>4.319245</td>\n",
       "      <td>2.247576</td>\n",
       "      <td>2.592115</td>\n",
       "      <td>1.626818</td>\n",
       "    </tr>\n",
       "  </tbody>\n",
       "</table>\n",
       "<p>81 rows × 4 columns</p>\n",
       "</div>"
      ],
      "text/plain": [
       "region    Africa   America      Asia    Europe\n",
       "year                                          \n",
       "1800    6.393208  6.055758  6.291923  5.561628\n",
       "1810    6.394151  6.040000  6.281154  5.540233\n",
       "1820    6.394340  6.031515  6.292692  5.545909\n",
       "1830    6.395472  6.046364  6.285577  5.506591\n",
       "1840    6.396226  6.046970  6.255577  5.486591\n",
       "...          ...       ...       ...       ...\n",
       "2011    4.569811  2.340000  2.736923  1.605227\n",
       "2012    4.508868  2.315152  2.700769  1.606818\n",
       "2013    4.447547  2.294242  2.664038  1.617727\n",
       "2014    4.383962  2.269697  2.627692  1.621364\n",
       "2015    4.319245  2.247576  2.592115  1.626818\n",
       "\n",
       "[81 rows x 4 columns]"
      ]
     },
     "execution_count": 21,
     "metadata": {},
     "output_type": "execute_result"
    }
   ],
   "source": [
    "#create pivot_table data=babies_per_woman,  index=year, columns= region\n",
    "gapminder.pivot_table(\"babies_per_woman\", \"year\", \"region\")"
   ]
  },
  {
   "cell_type": "code",
   "execution_count": 49,
   "metadata": {},
   "outputs": [
    {
     "data": {
      "text/plain": [
       "(1789.25, 2010, 53.30368601398604, 101.54982447552445)"
      ]
     },
     "execution_count": 49,
     "metadata": {},
     "output_type": "execute_result"
    },
    {
     "data": {
      "image/png": "[encoded data removed]",
      "text/plain": [
       "<Figure size 432x288 with 1 Axes>"
      ]
     },
     "metadata": {
      "needs_background": "light"
     },
     "output_type": "display_data"
    },
    {
     "data": {
      "image/png": "[encoded data removed]",
      "text/plain": [
       "<Figure size 432x288 with 1 Axes>"
      ]
     },
     "metadata": {
      "needs_background": "light"
     },
     "output_type": "display_data"
    }
   ],
   "source": [
    "#plot pivot_table abies_per_woman\", \"year\", \"region\"\n",
    "gapminder.pivot_table(\"babies_per_woman\", \"year\", \"region\").plot()\n",
    "plt.ylabel(\"babies per woman\")\n",
    "#set title\n",
    "plt.title(\"babies per woman\")\n",
    "#set max value of x and y axis\n",
    "plt.axis(xmax= 2010)\n",
    "\n",
    "\n",
    "\n",
    "#plot pivot_table  age5_surviving\", \"year\", \"region\"\n",
    "gapminder.pivot_table(\"age5_surviving\", \"year\", \"region\").plot()\n",
    "plt.ylabel(\"age 5 survival [%]\")\n",
    "plt.title(\"age 5 survival\")\n",
    "#set max value of x and y axis\n",
    "plt.axis(xmax= 2010)"
   ]
  },
  {
   "cell_type": "code",
   "execution_count": null,
   "metadata": {},
   "outputs": [],
   "source": []
  }
 ],
 "metadata": {
  "kernelspec": {
   "display_name": "Python 3",
   "language": "python",
   "name": "python3"
  },
  "language_info": {
   "codemirror_mode": {
    "name": "ipython",
    "version": 3
   },
   "file_extension": ".py",
   "mimetype": "text/x-python",
   "name": "python",
   "nbconvert_exporter": "python",
   "pygments_lexer": "ipython3",
   "version": "3.7.6"
  }
 },
 "nbformat": 4,
 "nbformat_minor": 4
}
